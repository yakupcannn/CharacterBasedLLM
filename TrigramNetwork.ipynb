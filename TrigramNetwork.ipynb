{
 "cells": [
  {
   "cell_type": "code",
   "execution_count": 30,
   "id": "f1aa9ad4",
   "metadata": {},
   "outputs": [],
   "source": [
    "import torch\n",
    "import torch.nn.functional as F\n",
    "import numpy as np"
   ]
  },
  {
   "cell_type": "code",
   "execution_count": 3,
   "id": "5dd12025",
   "metadata": {},
   "outputs": [],
   "source": [
    "words=open(\"names.txt\",\"r\").read().splitlines()"
   ]
  },
  {
   "cell_type": "code",
   "execution_count": 4,
   "id": "5ee10297",
   "metadata": {},
   "outputs": [
    {
     "data": {
      "text/plain": [
       "32033"
      ]
     },
     "execution_count": 4,
     "metadata": {},
     "output_type": "execute_result"
    }
   ],
   "source": [
    "len(words)"
   ]
  },
  {
   "cell_type": "code",
   "execution_count": 5,
   "id": "5b37f11f",
   "metadata": {},
   "outputs": [],
   "source": [
    "chars=sorted(set(''.join(words)))\n",
    "\n",
    "stoi={s:i+1 for i,s in enumerate(chars)}\n",
    "stoi['.']=0\n",
    "itos={i:s for s,i in stoi.items()}"
   ]
  },
  {
   "cell_type": "code",
   "execution_count": 78,
   "id": "51868186",
   "metadata": {
    "scrolled": true
   },
   "outputs": [],
   "source": [
    "xs=[]\n",
    "ys=[]\n",
    "for word in words[0:1]:\n",
    "    chars=[\".\"]+list(word)+[\".\"]\n",
    "    for ch1,ch2,ch3 in zip(chars[0:],chars[1:],chars[2:]):\n",
    "        v1=F.one_hot(torch.tensor(stoi[ch1]),num_classes=27).float()\n",
    "        v2=F.one_hot(torch.tensor(stoi[ch2]),num_classes=27).float()\n",
    "        l1=torch.hstack((v1,v2))\n",
    "        xs.append(l1.tolist())\n",
    "        ys.append(stoi[ch3])\n",
    "\n",
    "        "
   ]
  },
  {
   "cell_type": "code",
   "execution_count": 79,
   "id": "59996bad",
   "metadata": {},
   "outputs": [
    {
     "data": {
      "text/plain": [
       "tensor([[1., 0., 0., 0., 0., 0., 0., 0., 0., 0., 0., 0., 0., 0., 0., 0., 0., 0.,\n",
       "         0., 0., 0., 0., 0., 0., 0., 0., 0., 0., 0., 0., 0., 0., 1., 0., 0., 0.,\n",
       "         0., 0., 0., 0., 0., 0., 0., 0., 0., 0., 0., 0., 0., 0., 0., 0., 0., 0.],\n",
       "        [0., 0., 0., 0., 0., 1., 0., 0., 0., 0., 0., 0., 0., 0., 0., 0., 0., 0.,\n",
       "         0., 0., 0., 0., 0., 0., 0., 0., 0., 0., 0., 0., 0., 0., 0., 0., 0., 0.,\n",
       "         0., 0., 0., 0., 1., 0., 0., 0., 0., 0., 0., 0., 0., 0., 0., 0., 0., 0.],\n",
       "        [0., 0., 0., 0., 0., 0., 0., 0., 0., 0., 0., 0., 0., 1., 0., 0., 0., 0.,\n",
       "         0., 0., 0., 0., 0., 0., 0., 0., 0., 0., 0., 0., 0., 0., 0., 0., 0., 0.,\n",
       "         0., 0., 0., 0., 1., 0., 0., 0., 0., 0., 0., 0., 0., 0., 0., 0., 0., 0.],\n",
       "        [0., 0., 0., 0., 0., 0., 0., 0., 0., 0., 0., 0., 0., 1., 0., 0., 0., 0.,\n",
       "         0., 0., 0., 0., 0., 0., 0., 0., 0., 0., 1., 0., 0., 0., 0., 0., 0., 0.,\n",
       "         0., 0., 0., 0., 0., 0., 0., 0., 0., 0., 0., 0., 0., 0., 0., 0., 0., 0.]])"
      ]
     },
     "execution_count": 79,
     "metadata": {},
     "output_type": "execute_result"
    }
   ],
   "source": [
    "xs=torch.tensor(xs)\n",
    "ys=torch.tensor(ys)\n",
    "xs"
   ]
  },
  {
   "cell_type": "code",
   "execution_count": 80,
   "id": "7cb10f44",
   "metadata": {},
   "outputs": [
    {
     "data": {
      "text/plain": [
       "tensor([13, 13,  1,  0])"
      ]
     },
     "execution_count": 80,
     "metadata": {},
     "output_type": "execute_result"
    }
   ],
   "source": [
    "ys"
   ]
  },
  {
   "cell_type": "code",
   "execution_count": 20,
   "id": "b735f8ac",
   "metadata": {},
   "outputs": [],
   "source": [
    "g=torch.Generator().manual_seed(2147483647)"
   ]
  },
  {
   "cell_type": "code",
   "execution_count": 81,
   "id": "3102d5c8",
   "metadata": {},
   "outputs": [
    {
     "data": {
      "text/plain": [
       "torch.Size([4, 54])"
      ]
     },
     "execution_count": 81,
     "metadata": {},
     "output_type": "execute_result"
    }
   ],
   "source": [
    "xs.shape"
   ]
  },
  {
   "cell_type": "code",
   "execution_count": 82,
   "id": "b76337d4",
   "metadata": {},
   "outputs": [
    {
     "data": {
      "text/plain": [
       "torch.Size([4])"
      ]
     },
     "execution_count": 82,
     "metadata": {},
     "output_type": "execute_result"
    }
   ],
   "source": [
    "ys.shape"
   ]
  },
  {
   "cell_type": "code",
   "execution_count": 83,
   "id": "0699c56d",
   "metadata": {},
   "outputs": [],
   "source": [
    "W=torch.randn((54,27),generator=g, requires_grad=True)"
   ]
  },
  {
   "cell_type": "code",
   "execution_count": 84,
   "id": "8539fa37",
   "metadata": {},
   "outputs": [
    {
     "data": {
      "text/plain": [
       "torch.Size([54, 27])"
      ]
     },
     "execution_count": 84,
     "metadata": {},
     "output_type": "execute_result"
    }
   ],
   "source": [
    "W.shape"
   ]
  },
  {
   "cell_type": "code",
   "execution_count": 88,
   "id": "fb4a22f0",
   "metadata": {},
   "outputs": [
    {
     "name": "stdout",
     "output_type": "stream",
     "text": [
      "1.Epoch => Loss: 4.105025291442871\n",
      "2.Epoch => Loss: 4.051957130432129\n",
      "3.Epoch => Loss: 3.999122381210327\n",
      "4.Epoch => Loss: 3.9465255737304688\n",
      "5.Epoch => Loss: 3.894171714782715\n",
      "6.Epoch => Loss: 3.842067003250122\n",
      "7.Epoch => Loss: 3.790215015411377\n",
      "8.Epoch => Loss: 3.7386221885681152\n",
      "9.Epoch => Loss: 3.687293291091919\n",
      "10.Epoch => Loss: 3.636234760284424\n",
      "11.Epoch => Loss: 3.585452079772949\n",
      "12.Epoch => Loss: 3.5349509716033936\n",
      "13.Epoch => Loss: 3.4847371578216553\n",
      "14.Epoch => Loss: 3.434817314147949\n",
      "15.Epoch => Loss: 3.385197639465332\n",
      "16.Epoch => Loss: 3.3358840942382812\n",
      "17.Epoch => Loss: 3.2868828773498535\n",
      "18.Epoch => Loss: 3.23820161819458\n",
      "19.Epoch => Loss: 3.1898458003997803\n",
      "20.Epoch => Loss: 3.141822338104248\n",
      "21.Epoch => Loss: 3.09413743019104\n",
      "22.Epoch => Loss: 3.0467984676361084\n",
      "23.Epoch => Loss: 2.999811887741089\n",
      "24.Epoch => Loss: 2.953184127807617\n",
      "25.Epoch => Loss: 2.9069223403930664\n",
      "26.Epoch => Loss: 2.8610329627990723\n",
      "27.Epoch => Loss: 2.815523147583008\n",
      "28.Epoch => Loss: 2.7703983783721924\n",
      "29.Epoch => Loss: 2.7256662845611572\n",
      "30.Epoch => Loss: 2.681333065032959\n",
      "31.Epoch => Loss: 2.6374049186706543\n",
      "32.Epoch => Loss: 2.593888759613037\n",
      "33.Epoch => Loss: 2.550790309906006\n",
      "34.Epoch => Loss: 2.5081162452697754\n",
      "35.Epoch => Loss: 2.465872287750244\n",
      "36.Epoch => Loss: 2.4240646362304688\n",
      "37.Epoch => Loss: 2.3826987743377686\n",
      "38.Epoch => Loss: 2.341780185699463\n",
      "39.Epoch => Loss: 2.30131459236145\n",
      "40.Epoch => Loss: 2.261307716369629\n",
      "41.Epoch => Loss: 2.221763849258423\n",
      "42.Epoch => Loss: 2.1826882362365723\n",
      "43.Epoch => Loss: 2.1440858840942383\n",
      "44.Epoch => Loss: 2.1059606075286865\n",
      "45.Epoch => Loss: 2.068317174911499\n",
      "46.Epoch => Loss: 2.031158924102783\n",
      "47.Epoch => Loss: 1.9944909811019897\n",
      "48.Epoch => Loss: 1.9583157300949097\n",
      "49.Epoch => Loss: 1.92263662815094\n",
      "50.Epoch => Loss: 1.8874568939208984\n",
      "51.Epoch => Loss: 1.8527790307998657\n",
      "52.Epoch => Loss: 1.818605661392212\n",
      "53.Epoch => Loss: 1.7849390506744385\n",
      "54.Epoch => Loss: 1.7517808675765991\n",
      "55.Epoch => Loss: 1.719132661819458\n",
      "56.Epoch => Loss: 1.6869958639144897\n",
      "57.Epoch => Loss: 1.6553715467453003\n",
      "58.Epoch => Loss: 1.6242600679397583\n",
      "59.Epoch => Loss: 1.5936623811721802\n",
      "60.Epoch => Loss: 1.5635777711868286\n",
      "61.Epoch => Loss: 1.5340065956115723\n",
      "62.Epoch => Loss: 1.5049481391906738\n",
      "63.Epoch => Loss: 1.476401448249817\n",
      "64.Epoch => Loss: 1.4483650922775269\n",
      "65.Epoch => Loss: 1.420837640762329\n",
      "66.Epoch => Loss: 1.3938177824020386\n",
      "67.Epoch => Loss: 1.3673025369644165\n",
      "68.Epoch => Loss: 1.3412903547286987\n",
      "69.Epoch => Loss: 1.3157775402069092\n",
      "70.Epoch => Loss: 1.2907617092132568\n",
      "71.Epoch => Loss: 1.2662391662597656\n",
      "72.Epoch => Loss: 1.2422064542770386\n",
      "73.Epoch => Loss: 1.2186594009399414\n",
      "74.Epoch => Loss: 1.1955938339233398\n",
      "75.Epoch => Loss: 1.17300546169281\n",
      "76.Epoch => Loss: 1.1508893966674805\n",
      "77.Epoch => Loss: 1.12924063205719\n",
      "78.Epoch => Loss: 1.1080539226531982\n",
      "79.Epoch => Loss: 1.087323784828186\n",
      "80.Epoch => Loss: 1.0670444965362549\n",
      "81.Epoch => Loss: 1.0472100973129272\n",
      "82.Epoch => Loss: 1.0278143882751465\n",
      "83.Epoch => Loss: 1.0088512897491455\n",
      "84.Epoch => Loss: 0.9903144240379333\n",
      "85.Epoch => Loss: 0.9721969962120056\n",
      "86.Epoch => Loss: 0.9544921517372131\n",
      "87.Epoch => Loss: 0.9371932744979858\n",
      "88.Epoch => Loss: 0.9202932119369507\n",
      "89.Epoch => Loss: 0.9037849307060242\n",
      "90.Epoch => Loss: 0.8876610994338989\n",
      "91.Epoch => Loss: 0.8719147443771362\n",
      "92.Epoch => Loss: 0.8565383553504944\n",
      "93.Epoch => Loss: 0.8415246605873108\n",
      "94.Epoch => Loss: 0.8268662691116333\n",
      "95.Epoch => Loss: 0.8125558495521545\n",
      "96.Epoch => Loss: 0.7985860109329224\n",
      "97.Epoch => Loss: 0.7849493622779846\n",
      "98.Epoch => Loss: 0.7716384530067444\n",
      "99.Epoch => Loss: 0.7586461901664734\n",
      "100.Epoch => Loss: 0.7459651231765747\n"
     ]
    }
   ],
   "source": [
    "g = torch.Generator().manual_seed(2147483647)\n",
    "W = torch.randn((54, 27), generator=g, requires_grad=True)\n",
    "loss_data=[]\n",
    "##Forward Pass\n",
    "epochs=100\n",
    "lr=0.1\n",
    "for i in range(epochs):\n",
    "    logits = xs @ W # predict log-counts\n",
    "    counts = logits.exp() # counts, equivalent to N\n",
    "    probs = counts / counts.sum(1, keepdims=True) # probabilities for next character\n",
    "    regularization_term=0.01*(W**2).mean()\n",
    "    loss = -probs[torch.arange(xs.shape[0]), ys].log().mean() + regularization_term\n",
    "    loss_data.append(loss.item())\n",
    "    print(f\"{i+1}.Epoch => Loss: {loss.item()}\")\n",
    "    W.grad=None # this is more efficient rather than assigning 0\n",
    "    loss.backward()\n",
    "    W.data-=lr*W.grad"
   ]
  },
  {
   "cell_type": "code",
   "execution_count": 89,
   "id": "e9aa9fa0",
   "metadata": {},
   "outputs": [
    {
     "data": {
      "image/png": "[encoded data removed]",
      "text/plain": [
       "<Figure size 640x480 with 1 Axes>"
      ]
     },
     "metadata": {},
     "output_type": "display_data"
    }
   ],
   "source": [
    "import matplotlib.pyplot as plt\n",
    "\n",
    "plt.plot(loss_data)\n",
    "plt.show()"
   ]
  },
  {
   "cell_type": "code",
   "execution_count": 102,
   "id": "75d30d4e",
   "metadata": {},
   "outputs": [
    {
     "name": "stdout",
     "output_type": "stream",
     "text": [
      "uyt.\n",
      "axw.\n",
      "tpojxttszpgschuhqvbmrdjdarmgvmpzfrogbt.\n",
      "ksmhdkfbllvkfedkrqrjvmarhggwxou.\n",
      "odct.\n",
      "edklyucemapcjugrogemlpp.\n",
      "gdblbcepipmbf.\n",
      "zuyw.\n"
     ]
    }
   ],
   "source": [
    "g = torch.Generator().manual_seed(2147483647)\n",
    "wo=\"courtney\"\n",
    "for i in range(len(wo)):\n",
    "    out=[]\n",
    "    ix=0\n",
    "    while True:\n",
    "        xenc=F.one_hot(torch.tensor([ix]),num_classes=54).float()\n",
    "        logits=xenc @ W\n",
    "        counts=logits.exp()\n",
    "        p = counts / counts.sum(1, keepdims=True)\n",
    "        ix = torch.multinomial(p, num_samples=1, replacement=True, generator=g).item()\n",
    "        out.append(itos[ix])\n",
    "        if ix == 0:\n",
    "            break\n",
    "    print(\"\".join(out))"
   ]
  },
  {
   "cell_type": "code",
   "execution_count": null,
   "id": "5f6b2f9d",
   "metadata": {},
   "outputs": [],
   "source": []
  }
 ],
 "metadata": {
  "kernelspec": {
   "display_name": "Python 3 (ipykernel)",
   "language": "python",
   "name": "python3"
  },
  "language_info": {
   "codemirror_mode": {
    "name": "ipython",
    "version": 3
   },
   "file_extension": ".py",
   "mimetype": "text/x-python",
   "name": "python",
   "nbconvert_exporter": "python",
   "pygments_lexer": "ipython3",
   "version": "3.9.13"
  }
 },
 "nbformat": 4,
 "nbformat_minor": 5
}
